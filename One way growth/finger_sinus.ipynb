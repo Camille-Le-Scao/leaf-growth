{
 "cells": [
  {
   "cell_type": "markdown",
   "id": "46aefcad",
   "metadata": {},
   "source": [
    "# <h1><center><span style=\"color:blue\">Finger</span></center></h1>"
   ]
  },
  {
   "cell_type": "markdown",
   "id": "c439fba0",
   "metadata": {},
   "source": [
    "**Author:**  Camille Le Scao <br>\n",
    "**Contact:**  camille.le-scao@etu.u-paris.fr <br>\n",
    "**Date:**  01/04/2020 <br>\n",
    "**Last updated:** 26/09/2023 <br>\n",
    "**Version:**  Python 3.9.12 <br>"
   ]
  },
  {
   "cell_type": "markdown",
   "id": "bed5b0a0",
   "metadata": {},
   "source": [
    "## INITIATION"
   ]
  },
  {
   "cell_type": "markdown",
   "id": "dd73bf13",
   "metadata": {},
   "source": [
    "### Charge librairies"
   ]
  },
  {
   "cell_type": "code",
   "execution_count": 1,
   "id": "f97c6884",
   "metadata": {},
   "outputs": [],
   "source": [
    "import numpy as np\n",
    "import math\n",
    "import matplotlib.pyplot as plt\n",
    "from copy import deepcopy"
   ]
  },
  {
   "cell_type": "code",
   "execution_count": 2,
   "id": "dfa046e1",
   "metadata": {},
   "outputs": [],
   "source": [
    "import tables\n",
    "import h5py   \n",
    "import pickle"
   ]
  },
  {
   "cell_type": "markdown",
   "id": "f28cd432",
   "metadata": {},
   "source": [
    "### Vein Class"
   ]
  },
  {
   "cell_type": "code",
   "execution_count": 3,
   "id": "9ed92679",
   "metadata": {},
   "outputs": [],
   "source": [
    "class VeinArray:\n",
    "    \n",
    "    def __init__(self,index,x0,y0,t0,level,mother_index): \n",
    "        self.index=index\n",
    "        self.array=np.zeros((3,1))\n",
    "        self.array[0,0]=x0\n",
    "        self.array[1,0]=y0\n",
    "        self.array[2,0]=t0\n",
    "        self.level=level\n",
    "        self.mother_index=mother_index\n",
    "        \n",
    "    def add_point(self,x,y,t):\n",
    "        col=np.array([[x],[y],[t]])\n",
    "        self.array=np.append(self.array,col,axis=1)\n",
    "        \n",
    "    def del_point(self,i):\n",
    "        self.array=np.delete(self.array,i,axis=1)"
   ]
  },
  {
   "cell_type": "code",
   "execution_count": 4,
   "id": "9046099f",
   "metadata": {},
   "outputs": [],
   "source": [
    "class VeinJunction:\n",
    "    \n",
    "    def __init__(self,time,array,level,mother_index):\n",
    "        self.array=array\n",
    "        self.time=time\n",
    "        self.level=level\n",
    "        self.mother_index=mother_index"
   ]
  },
  {
   "cell_type": "markdown",
   "id": "51f5aa0d",
   "metadata": {},
   "source": [
    "### Define Parameters"
   ]
  },
  {
   "cell_type": "markdown",
   "id": "8db16d68",
   "metadata": {},
   "source": [
    "#### default parameters"
   ]
  },
  {
   "cell_type": "code",
   "execution_count": 5,
   "id": "e8d9b605",
   "metadata": {},
   "outputs": [],
   "source": [
    "np.random.seed(0)"
   ]
  },
  {
   "cell_type": "code",
   "execution_count": 6,
   "id": "a236d4af",
   "metadata": {},
   "outputs": [],
   "source": [
    "NB_POINTS_0 = 150  #initial points on the front for initial_array()\n",
    "L = 100  #for fixed growth function\n",
    "X_AXIS = list(np.linspace(-L / 2, L / 2, NB_POINTS_0)) #initial spread on the X axis for initial_array()\n",
    "D_MIN = 0.2  #a factor for the minimal distance between points\n",
    "D_MAX = 2  #a factor for the maximal distance between points\n",
    "MAX_RES = 1.3333333 #maximum distance between 2 points of the front to condition new point creation\n",
    "MIN_RES = 0.1333333 #minimul between 2 points of the front to condition point suppression"
   ]
  },
  {
   "cell_type": "markdown",
   "id": "68538880",
   "metadata": {},
   "source": [
    "<div class=\"alert alert-block alert-warning\"><b>Warning:</b> In this code, the general array is a line with direction, here the initial front goes from -50 -> 50 (left to right) on the x_axis, so be careful with it as it means the front will advance eitehr to the top or the bottom. Furthemore, do be careful when comparing an arc as itial growth front to a line as considering our other functions left to right is equival to the anti-trigonometric direction </div>"
   ]
  },
  {
   "cell_type": "markdown",
   "id": "b50fc707",
   "metadata": {},
   "source": [
    "#### tunable parameters"
   ]
  },
  {
   "cell_type": "code",
   "execution_count": 7,
   "id": "8b163007",
   "metadata": {},
   "outputs": [],
   "source": [
    "NB_VEINES = 6\n",
    "NOISE_REDUCTION = 0  #noise on the initial points position\n",
    "D_VEIN = 16.6666666  #critical distance for vein_propagation()\n",
    "S_GROWTH = 16.6666666  #for growth_front_vein()\n",
    "A0 = 0  #to tune minimal growth for growth functions\n",
    "AM = 1 #to tune vein dependant growth for growth function\n",
    "DT = 0.05\n",
    "T = 50000"
   ]
  },
  {
   "cell_type": "code",
   "execution_count": 8,
   "id": "43b0b60d",
   "metadata": {},
   "outputs": [
    {
     "name": "stdout",
     "output_type": "stream",
     "text": [
      "'D_VEIN' parameter must be close 16.666666666666668 in distance units\n",
      "'S_GROWTH' parameter is tuned comparatively to D_VEIN\n",
      "'MIN_RES' is the minimum distance between points and must be close to 0.13333333333333333 in distance units\n",
      "'MAX_RES' is the maximum distance between points and must be close to 1.3333333333333333 in distance units\n",
      "'L' parameter must be close to 100.0 in distance units\n"
     ]
    }
   ],
   "source": [
    "print(f\"'D_VEIN' parameter must be close {X_AXIS[-1]*2/NB_VEINES} in distance units\")\n",
    "print(f\"'S_GROWTH' parameter is tuned comparatively to D_VEIN\")\n",
    "print(f\"'MIN_RES' is the minimum distance between points and must be close to {X_AXIS[-1]*2*D_MIN/NB_POINTS_0} in distance units\")\n",
    "print(f\"'MAX_RES' is the maximum distance between points and must be close to {X_AXIS[-1]*2*D_MAX/NB_POINTS_0} in distance units\")\n",
    "print(f\"'L' parameter must be close to {abs(max(X_AXIS)) + abs(min(X_AXIS))} in distance units\")"
   ]
  },
  {
   "cell_type": "markdown",
   "id": "8b8cc7fb",
   "metadata": {},
   "source": [
    "### Functions A: create initial growth_front"
   ]
  },
  {
   "cell_type": "code",
   "execution_count": 9,
   "id": "29da41b7",
   "metadata": {},
   "outputs": [],
   "source": [
    "def initial_array_line(nb_points_0 = NB_POINTS_0, noise_reduction = NOISE_REDUCTION, x_axis = X_AXIS, nb_veins = NB_VEINES):\n",
    "    \n",
    "    first_array = np.zeros((10,nb_points_0))\n",
    "    first_array[8,:] = np.nan\n",
    "    index = 0\n",
    "    \n",
    "    for x_coordinate in x_axis:\n",
    "        first_array[0,index] = (x_coordinate + np.random.normal() * noise_reduction)\n",
    "        index += 1\n",
    "        \n",
    "    first_array, list_veins, list_junctions = initiate_veins(first_array, nb_veins)\n",
    "    \n",
    "    first_array = distance_array(first_array)\n",
    "    first_array = vecteur_normal_corrected(first_array)\n",
    "    first_array = curvature_corrected(first_array)\n",
    "    \n",
    "    print(f\"The first array is done\")\n",
    "    return(first_array, list_veins, list_junctions)"
   ]
  },
  {
   "cell_type": "code",
   "execution_count": 10,
   "id": "c8858eb9",
   "metadata": {},
   "outputs": [],
   "source": [
    "def initial_array_arc(noise_reduction = NOISE_REDUCTION, nb_points = NB_POINTS_0, R = X_AXIS[-1]):\n",
    "    first_array = np.zeros((10,nb_points))\n",
    "    theta = np.linspace(3 * np.pi / 2, 0, nb_points, )\n",
    "    for i in range(0,len(theta)):\n",
    "        theta[i] = theta[i] + np.random.normal() * noise_reduction\n",
    "    first_array[0,:] = R * (1 + np.cos(theta))\n",
    "    first_array[1,:] = R * np.sin(theta)\n",
    "    \n",
    "    first_array = distance_array(first_array)\n",
    "    first_array = vecteur_normal_corrected(first_array)\n",
    "    first_array = curvature_corrected(first_array)    \n",
    "    \n",
    "    return(first_array)"
   ]
  },
  {
   "cell_type": "code",
   "execution_count": null,
   "id": "75edcf61",
   "metadata": {},
   "outputs": [],
   "source": [
    "def initial_array_halfcircle(noise_reduction = NOISE_REDUCTION, nb_points = NB_POINTS_0, R = X_AXIS[-1], nb_veins = NB_VEINES):\n",
    "    \n",
    "    first_array = np.zeros((10,nb_points))\n",
    "    first_array[8,:] = np.nan\n",
    "    \n",
    "    theta = np.linspace(np.pi, 0, nb_points)\n",
    "    for i in range(0,len(theta)):\n",
    "        theta[i] = theta[i] + np.random.normal() * noise_reduction\n",
    "    first_array[0,:] = R * (1 + np.cos(theta)) - R\n",
    "    first_array[1,:] = (R * np.sin(theta) ) / 2\n",
    "    \n",
    "    first_array, list_veins, list_junctions = initiate_veins(first_array, nb_veins)\n",
    "    \n",
    "    first_array = distance_array(first_array)\n",
    "    first_array = vecteur_normal_corrected(first_array)\n",
    "    first_array = curvature_corrected(first_array)    \n",
    "    \n",
    "    return(first_array, list_veins, list_junctions)"
   ]
  },
  {
   "cell_type": "code",
   "execution_count": null,
   "id": "7fe575ad",
   "metadata": {},
   "outputs": [],
   "source": [
    "def initial_array_halfcircle_inversed(noise_reduction = NOISE_REDUCTION, nb_points = NB_POINTS_0, R = X_AXIS[-1], nb_veins = NB_VEINES):\n",
    "    \n",
    "    first_array = np.zeros((10,nb_points))\n",
    "    first_array[8,:] = np.nan\n",
    "    \n",
    "    theta = np.linspace(np.pi, 2 * np.pi, nb_points)\n",
    "    for i in range(0,len(theta)):\n",
    "        theta[i] = theta[i] + np.random.normal() * noise_reduction\n",
    "    first_array[0,:] = R * (1 + np.cos(theta)) - R\n",
    "    first_array[1,:] = (R * np.sin(theta) - R) / 2 + R / 2\n",
    "    \n",
    "    first_array, list_veins, list_junctions = initiate_veins(first_array, nb_veins)\n",
    "    \n",
    "    first_array = distance_array(first_array)\n",
    "    first_array = vecteur_normal_corrected(first_array)\n",
    "    first_array = curvature_corrected(first_array)    \n",
    "    \n",
    "    return(first_array, list_veins, list_junctions)"
   ]
  },
  {
   "cell_type": "code",
   "execution_count": 11,
   "id": "0ddda7af",
   "metadata": {},
   "outputs": [],
   "source": [
    "def initiate_veins(first_array, nb_veins):\n",
    "    \n",
    "    # Initiate\n",
    "    \n",
    "    veins_index = []\n",
    "    list_veins = []\n",
    "    list_junctions = []\n",
    "    \n",
    "    # Determine and veins index and add in first array\n",
    "    \n",
    "    nb_points = first_array.shape[1]\n",
    "    for vein in range(nb_veins):\n",
    "        index = int(nb_points*(vein+1) / (nb_veins+1))\n",
    "        veins_index.append(index)\n",
    "        first_array[8,index] = vein  \n",
    "    first_array[7,veins_index] = 1\n",
    "    \n",
    "    # Initiate vein in class/list_veins\n",
    "    \n",
    "    for vein in range(len(veins_index)):\n",
    "        #vein(self, index, x0, y0, t0, level, mother_index, weight)\n",
    "        v = VeinArray(vein,first_array[0,veins_index[vein]],first_array[1,veins_index[vein]],0,0,np.nan)\n",
    "        list_veins.append(v)  \n",
    "        \n",
    "    print(f\"Veins were created\")\n",
    "    return(first_array,list_veins,list_junctions)\n"
   ]
  },
  {
   "cell_type": "markdown",
   "id": "f1febf52",
   "metadata": {},
   "source": [
    "### Functions B: calibrate growth_front parameters"
   ]
  },
  {
   "cell_type": "code",
   "execution_count": 12,
   "id": "14a8235c",
   "metadata": {},
   "outputs": [],
   "source": [
    "def distance_array(growth_front):\n",
    "    \n",
    "    growth_front[2,0] = 0\n",
    "    for point in range(1,growth_front.shape[1]):\n",
    "        growth_front[2,point] = math.sqrt((growth_front[0,point] - growth_front[0,point-1])**2 + (growth_front[1,point] - growth_front[1,point-1])**2) \n",
    "        \n",
    "    return(growth_front)"
   ]
  },
  {
   "cell_type": "code",
   "execution_count": 13,
   "id": "950ff390",
   "metadata": {},
   "outputs": [],
   "source": [
    "def vecteur_normal_corrected(growth_front): \n",
    "    #divided the value by 2, except at the border\n",
    "    \n",
    "    #first point\n",
    "    \n",
    "    growth_front[3,0] = growth_front[1,1] - growth_front[1,0]  #u\n",
    "    growth_front[4,0] = - growth_front[0,1] + growth_front[0,0]  #v\n",
    "    Lo = math.sqrt(growth_front[3,0]**2 + growth_front[4,0]**2)  #normalized\n",
    "    growth_front[3,0] = growth_front[3,0] / Lo\n",
    "    growth_front[4,0] = growth_front[4,0] / Lo\n",
    "    \n",
    "    #front Loop\n",
    "    \n",
    "    for point in range(1,growth_front.shape[1] - 1):\n",
    "            growth_front[3,point] = (growth_front[1,point+1] - growth_front[1,point-1]) / 2  #have to divide the distance by two\n",
    "            growth_front[4,point] = (-growth_front[0,point+1] + growth_front[0,point-1]) / 2\n",
    "            Lo = math.sqrt(growth_front[3,point]**2 + growth_front[4,point]**2)  #normalized\n",
    "            growth_front[3,point] = growth_front[3,point] / Lo\n",
    "            growth_front[4,point] = growth_front[4,point] / Lo   \n",
    "            \n",
    "    #Last point\n",
    "    \n",
    "    growth_front[3,-1] = growth_front[1,-1] - growth_front[1,-2]\n",
    "    growth_front[4,-1] = -growth_front[0,-1] + growth_front[0,-2]\n",
    "    Lo = math.sqrt(growth_front[3,-1]**2 + growth_front[4,-1]**2)  #normalized\n",
    "    growth_front[3,-1] = growth_front[3,-1] / Lo\n",
    "    growth_front[4,-1] = growth_front[4,-1] / Lo\n",
    "    \n",
    "    # Warning, for the direction (inside or outside)\n",
    "    \n",
    "    growth_front[4,:] = - growth_front[4,:]\n",
    "    growth_front[3,:] = - growth_front[3,:]\n",
    "    \n",
    "    return(growth_front)"
   ]
  },
  {
   "cell_type": "code",
   "execution_count": 14,
   "id": "a0ee0994",
   "metadata": {},
   "outputs": [],
   "source": [
    "def curvature_corrected(growth_front): \n",
    "    \n",
    "    # first point\n",
    "    u_1 = growth_front[3,0]\n",
    "    v_1 = growth_front[4,0]\n",
    "    u_2 = growth_front[3,1]\n",
    "    v_2 = growth_front[4,1]\n",
    "    corr = 1 / 2\n",
    "    d = growth_front[2,1] * corr\n",
    "    growth_front[9,0] = math.asin(u_1 * v_2 - u_2 * v_1) / d\n",
    "    \n",
    "    # second point\n",
    "    u_1 = growth_front[3,0]\n",
    "    v_1 = growth_front[4,0]\n",
    "    u_2 = growth_front[3,2]\n",
    "    v_2 = growth_front[4,2]\n",
    "    corr = 3 / 4\n",
    "    d = (growth_front[2,1] + growth_front[2,2]) * corr\n",
    "    growth_front[9,1] = math.asin(u_1 * v_2 - u_2 * v_1) / d    \n",
    "    \n",
    "    \n",
    "    # loop     \n",
    "    for point in range(2,growth_front.shape[1] - 2):\n",
    "        u_1 = growth_front[3,point-1]\n",
    "        v_1 = growth_front[4,point-1]\n",
    "        u_2 = growth_front[3,point+1]\n",
    "        v_2 = growth_front[4,point+1]\n",
    "        d = growth_front[2,point+1] + growth_front[2,point]             \n",
    "        growth_front[9,point] = math.asin(u_1 * v_2 - u_2 * v_1) / d\n",
    "    \n",
    "    # first before last\n",
    "    u_1 = growth_front[3,-3]\n",
    "    v_1 = growth_front[4,-3]\n",
    "    u_2 = growth_front[3,-1]\n",
    "    v_2 = growth_front[4,-1]\n",
    "    corr = 3 / 4\n",
    "    d = (growth_front[2,-1] + growth_front[2,-2]) * corr\n",
    "    growth_front[9,-2] = math.asin(u_1 * v_2 - u_2 * v_1) / d  \n",
    "    \n",
    "    # last point\n",
    "    v_1=growth_front[3,-1]\n",
    "    u_1=growth_front[4,-1]\n",
    "    v_2=growth_front[3,-2]\n",
    "    u_2=growth_front[4,-2]\n",
    "    corr = 1 / 2\n",
    "    d = growth_front[2,-1] * corr\n",
    "    growth_front[9,-1] = math.asin(u_1 * v_2 - u_2 * v_1) / d \n",
    "    \n",
    "    return(growth_front)"
   ]
  },
  {
   "cell_type": "markdown",
   "id": "d39abf6f",
   "metadata": {},
   "source": [
    "### Functions C: growth functions"
   ]
  },
  {
   "cell_type": "markdown",
   "id": "2114171b",
   "metadata": {},
   "source": [
    "<div class=\"alert alert-block alert-info\"><b>Info:</b> \n",
    "There are several type of growth functions presented here: <br>\n",
    "- growth_frond_const() is a function in which the growth is constant <br>\n",
    "- growth_vein_dependant() is a function in which the growt is centered on the the position of veins <br>\n",
    "- growth_frond_obstacle(), associated with angle_pol() to compute the integral of angle between a point and all point of a front, is a function for which front overlap corresponding points are deleted (not like in the wood removal code)\n",
    "    \n",
    "</div>"
   ]
  },
  {
   "cell_type": "code",
   "execution_count": 15,
   "id": "4645c3f5",
   "metadata": {},
   "outputs": [],
   "source": [
    "def growth_frond_const(growth_front):\n",
    "    \n",
    "    gf_deepcopy = deepcopy(growth_front) \n",
    "    A_L=0.2\n",
    "    gf_deepcopy[0,:] = gf_deepcopy[0,:] + A_L * growth_front[3,:]\n",
    "    gf_deepcopy[1,:] = gf_deepcopy[1,:] + A_L * growth_front[4,:]\n",
    "    \n",
    "    gf_deepcopy = distance_array(gf_deepcopy)\n",
    "    gf_deepcopy = vecteur_normal_corrected(gf_deepcopy)\n",
    "    gf_deepcopy = curvature_corrected(gf_deepcopy)   \n",
    "    \n",
    "    return(gf_deepcopy)"
   ]
  },
  {
   "cell_type": "code",
   "execution_count": 16,
   "id": "9f215c00",
   "metadata": {},
   "outputs": [],
   "source": [
    "def growth_frond_finger(growth_front, dt = DT, l = L):\n",
    "    \n",
    "    gf_deepcopy = deepcopy(growth_front) \n",
    "    A_L = (1 + np.cos(2 * math.pi * growth_front[0,:] / l)) * dt / 2\n",
    "    gf_deepcopy[0,:] = gf_deepcopy[0,:] + A_L * growth_front[3,:]\n",
    "    gf_deepcopy[1,:] = gf_deepcopy[1,:] + A_L * growth_front[4,:]\n",
    "    \n",
    "    gf_deepcopy = distance_array(gf_deepcopy)\n",
    "    gf_deepcopy = vecteur_normal_corrected(gf_deepcopy)\n",
    "    gf_deepcopy = curvature_corrected(gf_deepcopy)   \n",
    "    \n",
    "    return(gf_deepcopy)"
   ]
  },
  {
   "cell_type": "code",
   "execution_count": 17,
   "id": "77dcf4a6",
   "metadata": {},
   "outputs": [],
   "source": [
    "def growth_vein_dependant(growth_front, a0 = A0, am = AM, s_growth = S_GROWTH , d_vein = D_VEIN, dt = DT):\n",
    "    \n",
    "    #Copy initial array\n",
    "    next_growth_front = deepcopy(growth_front)  \n",
    "\n",
    "    #Dependant Growth\n",
    "    veins = np.nonzero(growth_front[7,:] == 1)[0]\n",
    "    s = np.cumsum(growth_front[2,:])\n",
    "\n",
    "    delta_var = np.zeros(next_growth_front.shape[1]) + a0\n",
    "    for j in veins:   \n",
    "        dj = s - s[j]\n",
    "        A_j = am * np.exp(-(dj**2) / (s_growth**2))\n",
    "        delta_var += A_j\n",
    "        #plt.plot(delta_var)  #check if error in growth\n",
    "    delta_var = delta_var * (s_growth / d_vein)  # Normalized\n",
    "\n",
    "    # Compute x and y\n",
    "    next_growth_front[0,:] = growth_front[0,:] + (delta_var * dt) * growth_front[3,:]\n",
    "    next_growth_front[1,:] = growth_front[1,:] + (delta_var * dt) * growth_front[4,:]\n",
    "    \n",
    "    next_growth_front = distance_array(next_growth_front)\n",
    "    next_growth_front = vecteur_normal_corrected(next_growth_front)\n",
    "    next_growth_front = curvature_corrected(next_growth_front)  \n",
    "  \n",
    "    return(next_growth_front)"
   ]
  },
  {
   "cell_type": "code",
   "execution_count": 18,
   "id": "e3dfb142",
   "metadata": {},
   "outputs": [],
   "source": [
    "def angle_pol(x_old,y_old,x_new,y_new,ind):\n",
    "    \n",
    "    # INSIDE POINT COORDINATES\n",
    "    x_ins = x_new[ind]\n",
    "    y_ins = y_new[ind]\n",
    "\n",
    "    ## SUM OF ANGLES\n",
    "\n",
    "    # loop angles\n",
    "    sum_angle=0\n",
    "    for i in range(len(x_old)):\n",
    "        if i == len(x_old)-1:\n",
    "            vector1_x  = x_old[i] - x_ins\n",
    "            vector1_y = y_old[i] - y_ins\n",
    "\n",
    "            vector2_x = x_old[0] - x_ins\n",
    "            vector2_y = y_old[0] - y_ins\n",
    "\n",
    "            angle = math.atan2( vector1_x*vector2_y - vector1_y*vector2_x, vector1_x*vector2_x + vector1_y*vector2_y)\n",
    "            sum_angle += angle\n",
    "        else: \n",
    "            vector1_x = x_old[i] - x_ins\n",
    "            vector1_y = y_old[i] - y_ins\n",
    "\n",
    "            vector2_x = x_old[i+1] - x_ins\n",
    "            vector2_y = y_old[i+1] - y_ins\n",
    "\n",
    "            angle = math.atan2( vector1_x*vector2_y - vector1_y*vector2_x, vector1_x*vector2_x + vector1_y*vector2_y)\n",
    "            sum_angle += angle\n",
    " \n",
    "    return(sum_angle/math.pi)"
   ]
  },
  {
   "cell_type": "code",
   "execution_count": 19,
   "id": "02819f79",
   "metadata": {},
   "outputs": [],
   "source": [
    "def growth_vein_obstacle(growth_front, a0 = A0, am = AM, s_growth = S_GROWTH , d_vein = D_VEIN, dt = DT):\n",
    "    \n",
    "    #Copy initial array\n",
    "    old_front = deepcopy(growth_front)\n",
    "    next_growth_front = deepcopy(growth_front)  \n",
    "\n",
    "    #Dependant Growth\n",
    "    veins = np.nonzero(growth_front[7,:] == 1)[0]\n",
    "    s = np.cumsum(growth_front[2,:])\n",
    "\n",
    "    delta_var = np.zeros(next_growth_front.shape[1]) + a0\n",
    "    for j in veins:   \n",
    "        dj = s - s[j]\n",
    "        A_j = am * np.exp(-(dj**2) / (s_growth**2))\n",
    "        delta_var += A_j\n",
    "        #plt.plot(delta_var)  #check if error in growth\n",
    "    delta_var = delta_var * (s_growth / d_vein)  # Normalized\n",
    "\n",
    "    # Compute x and y\n",
    "    next_growth_front[0,:] = growth_front[0,:] + (delta_var * dt) * growth_front[3,:]\n",
    "    next_growth_front[1,:] = growth_front[1,:] + (delta_var * dt) * growth_front[4,:]\n",
    "    \n",
    "    #  find overlap and restore\n",
    "    \n",
    "    ind_toremove = []\n",
    "    for i in range(1, old_front.shape[1] - 1):\n",
    "        angle_i = angle_pol(old_front[0,:], old_front[1,:], next_growth_front[0,:], next_growth_front[1,:], i)\n",
    "        if (angle_i > 0.1) or (angle_i < -0.1):\n",
    "            ind_toremove.append(i)\n",
    "            \n",
    "            \n",
    "    next_growth_front = np.delete(next_growth_front, ind_toremove, axis = 1)\n",
    "    \n",
    "    \n",
    "    next_growth_front = distance_array(next_growth_front)\n",
    "    next_growth_front = vecteur_normal_corrected(next_growth_front)\n",
    "    next_growth_front = curvature_corrected(next_growth_front)  \n",
    "  \n",
    "    return(next_growth_front)"
   ]
  },
  {
   "cell_type": "code",
   "execution_count": 20,
   "id": "481c00da",
   "metadata": {},
   "outputs": [],
   "source": [
    "def growth_vein_obstacle_combined(growth_front, a0 = A0, am = AM, s_growth = S_GROWTH , d_vein = D_VEIN, dt = DT, l = L):\n",
    "    \n",
    "    # copy initial array\n",
    "    old_front = deepcopy(growth_front)\n",
    "    next_growth_front = deepcopy(growth_front)  \n",
    "\n",
    "    # dependant Growth\n",
    "    veins = np.nonzero(growth_front[7,:] == 1)[0]\n",
    "    s = np.cumsum(growth_front[2,:])\n",
    "\n",
    "    delta_var = np.zeros(next_growth_front.shape[1]) + a0\n",
    "    for j in veins:   \n",
    "        dj = s - s[j]\n",
    "        A_j = am * np.exp(-(dj**2) / (s_growth**2))\n",
    "        delta_var += A_j\n",
    "        #plt.plot(delta_var)  #check if error in growth\n",
    "    delta_var = delta_var * (s_growth / d_vein)  #  normalized\n",
    "    \n",
    "    # fixed growth\n",
    "    delta_fixed = 1 + np.cos(2 * math.pi * growth_front[0,:] / L)\n",
    "    delta_fixed = delta_fixed * (L / d_vein)  #  normalized\n",
    "\n",
    "    # compute x and y\n",
    "    next_growth_front[0,:] = growth_front[0,:] + (delta_var * 2 + delta_fixed) * dt * growth_front[3,:]\n",
    "    next_growth_front[1,:] = growth_front[1,:] + (delta_var * 2 + delta_fixed) * dt * growth_front[4,:]\n",
    "    \n",
    "    #  find overlap and restore\n",
    "    \n",
    "    ind_toremove = []\n",
    "    for i in range(1, old_front.shape[1] - 1):\n",
    "        angle_i = angle_pol(old_front[0,:], old_front[1,:], next_growth_front[0,:], next_growth_front[1,:], i)\n",
    "        if (angle_i > 0.1) or (angle_i < -0.1):\n",
    "            ind_toremove.append(i)\n",
    "            \n",
    "            \n",
    "    next_growth_front = np.delete(next_growth_front, ind_toremove, axis = 1)\n",
    "    \n",
    "    \n",
    "    next_growth_front = distance_array(next_growth_front)\n",
    "    next_growth_front = vecteur_normal_corrected(next_growth_front)\n",
    "    next_growth_front = curvature_corrected(next_growth_front)  \n",
    "  \n",
    "    return(next_growth_front)"
   ]
  },
  {
   "cell_type": "markdown",
   "id": "7562c4e0",
   "metadata": {},
   "source": [
    "### Functions D: growth_front resolution "
   ]
  },
  {
   "cell_type": "code",
   "execution_count": 21,
   "id": "bffa8246",
   "metadata": {},
   "outputs": [],
   "source": [
    "def insert_points(growth_front, max_res = MAX_RES):\n",
    "    \n",
    "    if growth_front.shape[1] < 10000:  #maximum size\n",
    "        insert = np.nonzero(growth_front[2,:] > max_res)[0]\n",
    "        growth_front[5,:] = 0\n",
    "        if len(insert) != 0:\n",
    "            col = np.zeros((growth_front.shape[0], len(insert)))\n",
    "            for j in range(0, len(insert)):\n",
    "                col[0,j] = (growth_front[0,insert[j]] + growth_front[0,insert[j]-1]) / 2\n",
    "                col[1,j] = (growth_front[1,insert[j]] + growth_front[1,insert[j]-1]) / 2\n",
    "                col[5,j] = 1\n",
    "            growth_front = np.insert(growth_front, insert[:], col, axis = 1)\n",
    "            \n",
    "    growth_front = distance_array(growth_front)\n",
    "    growth_front = vecteur_normal_corrected(growth_front)\n",
    "    growth_front = curvature_corrected(growth_front) \n",
    " \n",
    "    return(growth_front)"
   ]
  },
  {
   "cell_type": "code",
   "execution_count": 22,
   "id": "8dc44fd1",
   "metadata": {},
   "outputs": [],
   "source": [
    "def delete_points(growth_front, min_res = MIN_RES):\n",
    "    \n",
    "    delete = np.nonzero((growth_front[2,:] < min_res) & (growth_front[7,:] == 0))[0]\n",
    "    \n",
    "    while len(delete) > 1:  #reminder: after a test, you showed you were deleting too many points if using directly np.delete\n",
    "        growth_front = np.delete(growth_front,delete[1], axis = 1)\n",
    "        growth_front = distance_array(growth_front)\n",
    "        delete = np.nonzero((growth_front[2,:] < min_res) & (growth_front[7,:] == 0))[0] #delete point by point\n",
    "        \n",
    "    growth_front = distance_array(growth_front)\n",
    "    growth_front = vecteur_normal_corrected(growth_front)\n",
    "    growth_front = curvature_corrected(growth_front) \n",
    "    \n",
    "    return(growth_front)"
   ]
  },
  {
   "cell_type": "markdown",
   "id": "3846d1c4",
   "metadata": {},
   "source": [
    "### Functions E: loops"
   ]
  },
  {
   "cell_type": "markdown",
   "id": "2536f9bb",
   "metadata": {},
   "source": [
    "<div class=\"alert alert-block alert-warning\"><b>Warning:</b> Deleting two more neighbours in case does not work. By looking at all neighbours instead of of a minimal number defined by MAX_SPREAD / MINIMUM_DISTANCE_BETWEEN_POINTS, we limit the number of loops, but do not supress them completely </div>"
   ]
  },
  {
   "cell_type": "code",
   "execution_count": 23,
   "id": "1a2992d7",
   "metadata": {},
   "outputs": [],
   "source": [
    "def loop_removal(old_front, new_front, iteration):\n",
    "    \n",
    "    #  create matrix with x and y coordinates\n",
    "    old_mat = np.array([old_front[0,:], old_front[1,:]])\n",
    "    new_mat = np.array([new_front[0,:], new_front[1,:]])\n",
    "    \n",
    "    #  compute the list of distance bewteen a point and itself at t + 1, find max spread to consider\n",
    "    spread_list = np.sqrt(np.sum((new_mat - old_mat)**2, axis = 0))\n",
    "    max_spread = max(spread_list)\n",
    "    d_points = min(new_front[2,1:])  #the distance at the first point is zero\n",
    "    #neighbours = math.ceil(2 * max_spread / d_points)\n",
    "    neighbours = old_front.shape[1]\n",
    "    \n",
    "    #  create and fill distance matrice, lines: (size 2*neighbours + 1), columns: (number of points columns)\n",
    "    #  each lines correspond to the distance between all the points of the front and the neighbour k\n",
    "    dist_mat = np.zeros((2 * neighbours + 1, np.shape(new_mat)[1]))\n",
    "    for k in range(-neighbours, neighbours + 1):\n",
    "        old_mat_rolled = np.roll(old_mat, k)\n",
    "        dist_mat[neighbours + k] = np.sqrt(np.sum((new_mat - old_mat_rolled)**2, axis = 0))\n",
    "        \n",
    "    if iteration % 100 == 0:\n",
    "        print('dist mat dimensions', dist_mat.ndim)\n",
    "        print('min dist_mat:', dist_mat.min())\n",
    "        print('max dist_mat:', dist_mat.max())\n",
    "        print('mean dist_mat', dist_mat.mean())\n",
    "        print('std dist_mat', np.std(dist_mat))\n",
    "        print('spread_list dimension', spread_list.ndim)\n",
    "        print('min spread_list', spread_list.min())\n",
    "        print('max spread_list', spread_list.max())\n",
    "        print('mean spread list', spread_list.mean())\n",
    "        print('std spread list', np.std(spread_list))\n",
    "    \n",
    "    #  delete a point of the new front if there is \n",
    "    #  at least one point for which the distance is inferior to the spread of the point\n",
    "    \n",
    "    ind_toremove = np.unique((dist_mat < spread_list[None,:]).nonzero()[1])\n",
    "    \n",
    "    #  now delete it\n",
    "    cleaned_front = np.delete(new_front, ind_toremove, axis = 1)\n",
    "    \n",
    "    #  compute other parameters to give clean array\n",
    "    cleaned_front = distance_array(cleaned_front)\n",
    "    cleaned_front = vecteur_normal_corrected(cleaned_front)\n",
    "    cleaned_front = curvature_corrected(cleaned_front) \n",
    "    \n",
    "    return(cleaned_front)"
   ]
  },
  {
   "cell_type": "markdown",
   "id": "11896ac7",
   "metadata": {},
   "source": [
    "### Functions F: vein propagation"
   ]
  },
  {
   "cell_type": "code",
   "execution_count": 24,
   "id": "afc7d728",
   "metadata": {},
   "outputs": [],
   "source": [
    "def propagate_veins_regular(growth_front, list_veins, list_junctions, iteration_time, d_vein = D_VEIN):\n",
    " \n",
    "    ##  DELETE PREVIOUS JUNCTIONS\n",
    "\n",
    "    erease = np.nonzero(growth_front[7,:] > 1)[0]\n",
    "    growth_front[7,erease] = 0\n",
    "\n",
    "    ##  COMPUTE DISTANCES BETWEEN VEINS\n",
    "    \n",
    "    distance = 0\n",
    "    for point in range(growth_front.shape[1]): \n",
    "        \n",
    "        #  no vein\n",
    "        \n",
    "            if growth_front[7,point] == 0:\n",
    "                distance = distance + growth_front[2,point]\n",
    "                growth_front[6,point] = distance \n",
    "        \n",
    "        #  vein          \n",
    "        \n",
    "            elif growth_front[7,point] == 1:\n",
    "                distance = distance + growth_front[2,point]\n",
    "                growth_front[6,point] = distance\n",
    "                distance = 0\n",
    "                \n",
    "    ##  VEIN CREATION\n",
    "    \n",
    "    veins = np.nonzero(growth_front[7,:] == 1)[0]  #  find all veins\n",
    "    \n",
    "    #  if a single vein, we take into account the distance to the edge\n",
    "    \n",
    "    if len(veins) <= 1:\n",
    "        v0 = 0\n",
    "        v1 = veins[0]\n",
    "        v2 = -1\n",
    "\n",
    "        #  critical distance rule\n",
    "         \n",
    "        if growth_front[6,v1] + growth_front[6,v2] >= 2 * d_vein:\n",
    "            growth_front[7,v1] = 0\n",
    "            third_1 = int(v0 + 2*(v1 - v0) / 3)\n",
    "            third_2 = int(v1 + (v2 - v1) / 3)    \n",
    "            growth_front[7,third_1] = 1\n",
    "            growth_front[7,third_2] = 1\n",
    "            growth_front[8,third_1] = len(list_veins)\n",
    "            growth_front[8,third_2] = len(list_veins) + 1\n",
    "            growth_front[7,third_1+1:third_2-1] = 2\n",
    "            \n",
    "            #  new vein in list_veins     \n",
    "            \n",
    "            mother_index = int(growth_front[8,v1])\n",
    "            level = list_veins[mother_index].level+1\n",
    "            v_third_1 = VeinArray(len(list_veins), growth_front[0,third_1], growth_front[1,third_1], iteration_time, level, int(growth_front[8,v1]))\n",
    "            v_third_2 = VeinArray(len(list_veins) + 1, growth_front[0,third_2], growth_front[1,third_2], iteration_time, level, int(growth_front[8,v1]))\n",
    "            list_veins.append(v_third_1)\n",
    "            list_veins.append(v_third_2)           \n",
    "             \n",
    "            #  junctions creation\n",
    "            \n",
    "            array_junction = growth_front[0:2,third_1+1:third_2-1]\n",
    "            link = VeinJunction(iteration_time, array_junction, level, mother_index)\n",
    "            list_junctions.append(link)\n",
    "            third_1 = None\n",
    "            third_2 = None\n",
    "            \n",
    "    #  if multiple veins\n",
    "        \n",
    "    else:\n",
    "            for vein_index in range(0,len(veins)):\n",
    "                \n",
    "                if vein_index == 0:  \n",
    "                    v0 = 0\n",
    "                    v1 = veins[vein_index]\n",
    "                    v2 = veins[vein_index+1]\n",
    "                    \n",
    "                elif vein_index == len(veins) - 1:\n",
    "                    v0 = veins[vein_index-1]\n",
    "                    v1 = veins[vein_index]\n",
    "                    v2 = growth_front.shape[1] - 1\n",
    "                    \n",
    "                else: \n",
    "                    v0 = veins[vein_index-1]\n",
    "                    v1 = veins[vein_index]\n",
    "                    v2 = veins[vein_index+1]\n",
    "            \n",
    "                #  critical distance rule\n",
    "                \n",
    "                if growth_front[6,v1] + growth_front[6,v2] >= 2 * d_vein:\n",
    "                    growth_front[7,v1] = 0\n",
    "                    third_1 = int(v0+2*(v1-v0)/3)\n",
    "                    third_2 = int(v1+(v2-v1)/3)\n",
    "                    growth_front[7,third_1] = 1\n",
    "                    growth_front[7,third_2] = 1\n",
    "                    growth_front[8,third_1] = len(list_veins)\n",
    "                    growth_front[8,third_2] = len(list_veins)+1\n",
    "                    growth_front[7,third_1+1:third_2-1] = 2\n",
    "            \n",
    "                #  new vein in list_veins      \n",
    "                \n",
    "                    mother_index = int(growth_front[8,v1])\n",
    "                    level = list_veins[mother_index].level + 1\n",
    "                    v_third_1 = VeinArray(len(list_veins), growth_front[0,third_1], growth_front[1,third_1], iteration_time, level, int(growth_front[8,v1]))\n",
    "                    v_third_2 = VeinArray(len(list_veins) + 1, growth_front[0,third_2], growth_front[1,third_2], iteration_time, level, int(growth_front[8,v1]))\n",
    "                    list_veins.append(v_third_1)\n",
    "                    list_veins.append(v_third_2)\n",
    "            \n",
    "                #  junctions creation\n",
    "            \n",
    "                    array_junction = growth_front[0:2,third_1+1:third_2-1]\n",
    "                    link = VeinJunction(iteration_time, array_junction, level, mother_index)\n",
    "                    list_junctions.append(link)\n",
    "                    third_1 = None\n",
    "                    third_2 = None\n",
    "        \n",
    " ## PROPAGATE VEINS\n",
    "    where_veins = np.where(growth_front[7,:] == 1)[0]\n",
    "    \n",
    "    for v in where_veins:\n",
    "        list_veins[int(growth_front[8,v])].add_point(growth_front[0,v], growth_front[1,v], iteration_time)\n",
    "     \n",
    "    \n",
    "    return(growth_front, list_veins, list_junctions)"
   ]
  },
  {
   "cell_type": "markdown",
   "id": "b835a784",
   "metadata": {},
   "source": [
    "## TEST"
   ]
  },
  {
   "cell_type": "code",
   "execution_count": 25,
   "id": "f83c5957",
   "metadata": {},
   "outputs": [
    {
     "name": "stdout",
     "output_type": "stream",
     "text": [
      "Veins were created\n",
      "The first array is done\n",
      "Veins position are [ 21  42  64  85 107 128]\n"
     ]
    }
   ],
   "source": [
    "first_front = initial_array_line()[0]\n",
    "print(f\"Veins position are {np.where(first_front[7,:] == 1)[0]}\")"
   ]
  },
  {
   "cell_type": "code",
   "execution_count": 26,
   "id": "c2b215ff",
   "metadata": {},
   "outputs": [
    {
     "data": {
      "image/png": "[encoded data removed]",
      "text/plain": [
       "<Figure size 800x300 with 1 Axes>"
      ]
     },
     "metadata": {},
     "output_type": "display_data"
    }
   ],
   "source": [
    "%matplotlib inline\n",
    "title = \"First Front\" \n",
    "fig, ax = plt.subplots(figsize = (8,3))\n",
    "plt.title(title, fontsize = 14)\n",
    "ax.set(xlabel = 'x (D)', ylabel = 'y (D)')\n",
    "\n",
    "x = first_front[0,:]\n",
    "y = first_front[1,:]\n",
    "u = first_front[3,:]\n",
    "v = first_front[4,:]\n",
    "plt.quiver(x, y, u, v, scale = 30, width = 0.003)\n",
    "plt.scatter(x, y, color = \"green\", s = 2, label = 'first front')\n",
    "\n",
    "x0 = first_front[0,0]\n",
    "y0 = first_front[1,0]\n",
    "plt.scatter(x0, y0, color = \"red\", s = 96, marker='+', label = 'first point')\n",
    "\n",
    "xlast = first_front[0,-1]\n",
    "ylast = first_front[1,-1]\n",
    "plt.scatter(xlast, ylast, color = \"blue\", s = 96, marker='+', label = 'last point')\n",
    "\n",
    "plt.legend()\n",
    "\n",
    "plt.show()"
   ]
  },
  {
   "cell_type": "code",
   "execution_count": 27,
   "id": "0e3c205d",
   "metadata": {},
   "outputs": [
    {
     "data": {
      "image/png": "[encoded data removed]",
      "text/plain": [
       "<Figure size 600x200 with 1 Axes>"
      ]
     },
     "metadata": {},
     "output_type": "display_data"
    }
   ],
   "source": [
    "%matplotlib inline\n",
    "title = \"First front curvature\" \n",
    "fig, ax = plt.subplots(figsize = (6,2))\n",
    "plt.title(title, fontsize=14)\n",
    "ax.set(xlabel = 'Index du point', ylabel = 'Courbure (1 / D)')\n",
    "plt.grid(False)\n",
    "  \n",
    "c = first_front[9,:]\n",
    "index = range(len(c))\n",
    "plt.scatter(range(len(c)), y = c, c = index)\n",
    "\n",
    "plt.show()"
   ]
  },
  {
   "cell_type": "code",
   "execution_count": 28,
   "id": "f8a6a902",
   "metadata": {},
   "outputs": [
    {
     "data": {
      "image/png": "[encoded data removed]",
      "text/plain": [
       "<Figure size 800x400 with 1 Axes>"
      ]
     },
     "metadata": {},
     "output_type": "display_data"
    }
   ],
   "source": [
    "second_front = growth_vein_dependant(first_front)\n",
    "third_front = growth_vein_dependant(second_front)\n",
    "\n",
    "%matplotlib inline\n",
    "\n",
    "title = \"Growth test\" \n",
    "fig, ax = plt.subplots(figsize = (8,4))\n",
    "#plt.gca().set_aspect('equal', adjustable='box')\n",
    "plt.title(title, fontsize = 14)\n",
    "ax.set(xlabel = 'x (D)', ylabel = 'y (D)')\n",
    "\n",
    "x1 = first_front[0,:]\n",
    "y1 = first_front[1,:]\n",
    "u1 = first_front[3,:]\n",
    "v1 = first_front[4,:]\n",
    "plt.scatter(x1, y1, color = \"green\", s = 2, label = 'first front')\n",
    "\n",
    "x2 = second_front[0,:]\n",
    "y2 = second_front[1,:]\n",
    "u2 = second_front[3,:]\n",
    "v2 = second_front[4,:]\n",
    "#plt.quiver(x2, y2, u2, v2, scale = 30, width = 0.003)\n",
    "plt.scatter(x2, y2, color = \"red\", s = 2, label = 'second front')\n",
    "\n",
    "x3 = third_front[0,:]\n",
    "y3 = third_front[1,:]\n",
    "u3 = third_front[3,:]\n",
    "v3 = third_front[4,:]\n",
    "#plt.quiver(x3, y3, u3, v3, scale = 30, width = 0.003)\n",
    "plt.scatter(x3, y3, color = \"blue\", s = 2, label = 'third front')\n",
    "\n",
    "plt.legend()\n",
    "plt.show()"
   ]
  },
  {
   "cell_type": "code",
   "execution_count": 29,
   "id": "16511615",
   "metadata": {},
   "outputs": [
    {
     "data": {
      "image/png": "[encoded data removed]",
      "text/plain": [
       "<Figure size 800x400 with 1 Axes>"
      ]
     },
     "metadata": {},
     "output_type": "display_data"
    }
   ],
   "source": [
    "front_circle_initial = initial_array_arc()\n",
    "front_circle_new = growth_frond_const(front_circle_initial)\n",
    "\n",
    "%matplotlib inline\n",
    "\n",
    "title = \"Is the growth normal ?\" \n",
    "fig, ax = plt.subplots(figsize = (8,4))\n",
    "plt.gca().set_aspect('equal', adjustable='box')\n",
    "plt.title(title, fontsize = 14)\n",
    "ax.set(xlabel = 'x (D)', ylabel = 'y (D)')\n",
    "\n",
    "x1 = front_circle_initial[0,:]\n",
    "y1 = front_circle_initial[1,:]\n",
    "u1 = front_circle_initial[3,:]\n",
    "v1 = front_circle_initial[4,:]\n",
    "#plt.quiver(x1, y1, u1, v1, scale = 30, width = 0.003)\n",
    "#plt.scatter(x1, y1, color = \"green\", s = 2, label = 'Initial Arc')\n",
    "\n",
    "x2 = front_circle_new[0,:]  #x\n",
    "y2 = front_circle_new[1,:]  #y\n",
    "u2 = front_circle_new[3,:]  #u\n",
    "v2 = front_circle_new[4,:]  #v\n",
    "plt.quiver(x2, y2, u2, v2, scale = 30, width = 0.003)\n",
    "plt.scatter(x2, y2, color = \"blue\", s = 2, label = 'second Arc')\n",
    "\n",
    "x0 = front_circle_new[0,0]\n",
    "y0 = front_circle_new[1,0]\n",
    "plt.scatter(x0, y0, color = \"red\", s = 96, marker='+', label = 'first point')\n",
    "\n",
    "xlast = front_circle_new[0,-1]\n",
    "ylast = front_circle_new[1,-1]\n",
    "plt.scatter(xlast, ylast, color = \"blue\", s = 96, marker='+', label = 'last point')\n",
    "\n",
    "plt.legend()\n",
    "plt.show()\n"
   ]
  },
  {
   "cell_type": "code",
   "execution_count": 30,
   "id": "1a31fdf4",
   "metadata": {},
   "outputs": [
    {
     "data": {
      "image/png": "[encoded data removed]",
      "text/plain": [
       "<Figure size 1200x500 with 1 Axes>"
      ]
     },
     "metadata": {},
     "output_type": "display_data"
    }
   ],
   "source": [
    "list_front = [first_front]\n",
    "\n",
    "for i in range(6):\n",
    "    growth_front = deepcopy(list_front[-1]) \n",
    "    growth_front = growth_vein_dependant(growth_front)\n",
    "    growth_front = insert_points(growth_front)\n",
    "    growth_front = vecteur_normal_corrected(growth_front)\n",
    "    growth_front = curvature_corrected(growth_front)\n",
    "    list_front.append(growth_front)\n",
    "    \n",
    "%matplotlib inline\n",
    "import matplotlib.patches as mpatches\n",
    "\n",
    "title = \"Insert point Test\" \n",
    "fig, ax = plt.subplots(figsize = (12,5))\n",
    "#plt.gca().set_aspect('equal', adjustable='box')\n",
    "plt.title(title, fontsize = 14)\n",
    "ax.set(xlabel = 'x (D)', ylabel = 'y (D)')\n",
    "\n",
    "for i in range(len(list_front)):\n",
    "    growth_front = list_front[i]\n",
    "    x = growth_front[0,:]\n",
    "    y = growth_front[1,:]\n",
    "    u = growth_front[3,:]\n",
    "    v = growth_front[4,:]\n",
    "    points_added = np.where(growth_front[5,:] == 1)\n",
    "    #plt.quiver(x, y, u, v, scale = 30, width = 0.003)\n",
    "    label = f\"iteration {i}\"\n",
    "    plt.scatter(x, y, label = label, s = 24, marker='+')\n",
    "    if i == len(list_front) - 1:\n",
    "        plt.scatter(x[points_added], y[points_added], color = 'black', s = 24, marker='+', label = 'added point')\n",
    "    else:\n",
    "        plt.scatter(x[points_added], y[points_added], color = 'black', s = 24, marker='+')\n",
    "\n",
    "plt.legend()\n",
    "plt.show()"
   ]
  },
  {
   "cell_type": "markdown",
   "id": "de7e19c4",
   "metadata": {},
   "source": [
    "<div class=\"alert alert-block alert-warning\"><b>Warning:</b> Martin's method does not work when the loop are very pointed/flat and almost tangent. In that case, yoiu have to consider all neighbours  </div>"
   ]
  },
  {
   "cell_type": "code",
   "execution_count": 31,
   "id": "79673502",
   "metadata": {},
   "outputs": [],
   "source": [
    "# Create two Test Array\n",
    "\n",
    "b = np.zeros((5, 21))\n",
    "b[0,:] = [-0.5, -0.4, -0.3, -0.2, -0.1, -0.09, -0.07, -0.05, -0.03, -0.01, 0, 0.01, 0.03, 0.05, 0.07, 0.09, 0.1, 0.2, 0.3, 0.4, 0.5]\n",
    "b[1,:] = [0.5, 0.5, 0.5, 0.5, 0.5, 0.4, 0.3, 0.2, 0.1, 0.0, -0.1, 0.0, 0.1, 0.2, 0.3, 0.4, 0.5, 0.5, 0.5, 0.5, 0.5 ]\n",
    "\n",
    "\n",
    "b = distance_array(b)\n",
    "b = vecteur_normal_corrected(b) \n",
    "\n",
    "    \n",
    "b2 = deepcopy(b) \n",
    "A_L=0.4\n",
    "b2[0,:] = b[0,:] + A_L * b[3,:]\n",
    "b2[1,:] = b[1,:] + A_L * b[4,:]\n",
    "    \n",
    "b2 = distance_array(b2)\n",
    "b2= vecteur_normal_corrected(b2)\n",
    "\n",
    "# Loop Removal (I copy pasted the function because the dimensions of the test array are different)\n",
    "\n",
    "B_D_POINTS = b2[2,1:].min()\n",
    "\n",
    "old_b2_mat = np.array([b[0,:], b[1,:]])\n",
    "new_b2_mat = np.array([b2[0,:], b2[1,:]])\n",
    "spread_list = np.sqrt(np.sum((new_b2_mat - old_b2_mat)**2, axis = 0))\n",
    "max_spread = max(spread_list)\n",
    "neighbours = math.ceil(2 * max_spread / B_D_POINTS)\n",
    "dist_mat = np.zeros((2 * neighbours + 1, np.shape(new_b2_mat)[1]))\n",
    "\n",
    "for k in range(-neighbours, neighbours + 1):\n",
    "    old_b2_mat_rolled = np.roll(old_b2_mat, k)\n",
    "    dist_mat[neighbours + k] = np.sqrt(np.sum((new_b2_mat - old_b2_mat_rolled)**2, axis = 0))\n",
    "    \n",
    "ind_toremove = np.unique((dist_mat < spread_list[None,:]).nonzero()[1])\n",
    "b2_cleaned_front = np.delete(b2, ind_toremove, axis = 1)\n",
    "\n",
    "\n",
    "neighbours_all = b.shape[1]\n",
    "dist_mat = np.zeros((2 * neighbours_all + 1, np.shape(new_b2_mat)[1]))\n",
    "\n",
    "for k in range(-neighbours_all, neighbours_all + 1):\n",
    "    old_b2_mat_rolled = np.roll(old_b2_mat, k)\n",
    "    dist_mat[neighbours + k] = np.sqrt(np.sum((new_b2_mat - old_b2_mat_rolled)**2, axis = 0))\n",
    "\n",
    "    \n",
    "ind_toremove = np.unique((dist_mat < spread_list[None,:]).nonzero()[1])\n",
    "b2_cleaned_front_all = np.delete(b2, ind_toremove, axis = 1)\n",
    "\n",
    "\n",
    "\n",
    "# Plot\n",
    "\n",
    "%matplotlib qt\n",
    "\n",
    "title = \"Loop Ablation Test\" \n",
    "fig, ax = plt.subplots(figsize = (5,5))\n",
    "plt.gca().set_aspect('equal', adjustable='box')\n",
    "plt.title(title, fontsize = 14)\n",
    "ax.set(xlabel = 'x (D)', ylabel = 'y (D)')\n",
    "\n",
    "plt.plot(b[0,:], b[1,:], label = \"Initial Array\")\n",
    "plt.scatter(b[0,:], b[1,:], marker = '+', s = 96)\n",
    "plt.plot(b2[0,:], b2[1,:], label = \"After Growth\")\n",
    "plt.scatter(b2[0,:], b2[1,:], marker = '+', s = 96)\n",
    "plt.plot(b2_cleaned_front[0,:], b2_cleaned_front[1,:], label = \"After Loop Removal - minimal neighbours\")\n",
    "plt.scatter(b2_cleaned_front[0,:], b2_cleaned_front[1,:], marker = '+', s = 96)\n",
    "plt.plot(b2_cleaned_front_all[0,:], b2_cleaned_front_all[1,:], label = \"After Loop Removal - all neighbours\")\n",
    "plt.scatter(b2_cleaned_front_all[0,:], b2_cleaned_front_all[1,:], marker = '+', s = 96)\n",
    "\n",
    "\n",
    "box = ax.get_position()\n",
    "ax.set_position([box.x0, box.y0, box.width * 0.8, box.height])\n",
    "\n",
    "ax.legend(loc='center left', bbox_to_anchor=(1, 0.5))\n",
    "plt.show()"
   ]
  },
  {
   "cell_type": "markdown",
   "id": "c6876e1d",
   "metadata": {},
   "source": [
    "## MAIN"
   ]
  },
  {
   "cell_type": "code",
   "execution_count": 32,
   "id": "9b6b0b4a",
   "metadata": {},
   "outputs": [
    {
     "name": "stdout",
     "output_type": "stream",
     "text": [
      "Veins were created\n",
      "The first array is done\n",
      "iteration 0 0.0\n",
      "level max: 0\n",
      "iteration 1000 50.0\n",
      "level max: 2\n",
      "iteration 2000 100.0\n",
      "level max: 6\n",
      "iteration 3000 150.0\n",
      "level max: 10\n",
      "iteration 4000 200.0\n",
      "level max: 13\n",
      "iteration 5000 250.0\n",
      "level max: 17\n",
      "iteration 6000 300.0\n",
      "level max: 21\n",
      "iteration 7000 350.0\n",
      "level max: 26\n",
      "iteration 8000 400.0\n",
      "level max: 30\n",
      "iteration 9000 450.0\n",
      "level max: 33\n",
      "iteration 10000 500.0\n",
      "level max: 38\n",
      "LEVEL_MAX: 38\n",
      "BREAK AT TIME: 500.0\n"
     ]
    }
   ],
   "source": [
    "#  Create initial array and lists\n",
    "\n",
    "first_array,list_veins,list_junctions = initial_array_line()\n",
    "list_growth_front = [first_array]\n",
    "list_time = np.arange(0,T,DT) \n",
    "\n",
    "iteration_time = 0\n",
    "\n",
    "level_max = 0\n",
    "\n",
    "for iteration, current_time in enumerate(list_time):\n",
    "    \n",
    "    #  copy previous array\n",
    "    growth_front_previous = list_growth_front[-1]\n",
    "    \n",
    "    #  growth on x and y \n",
    "    growth_front_current = growth_frond_finger(growth_front_previous)\n",
    "    \n",
    "    #  loop ablation\n",
    "    #growth_front_current = loop_removal(growth_front_previous, growth_front_current, iteration)\n",
    "    \n",
    "    #  delete points\n",
    "    growth_front_current = delete_points(growth_front_current)\n",
    "    \n",
    "    #  insert points\n",
    "    growth_front_current = insert_points(growth_front_current)\n",
    "    \n",
    "    #  propagate vein\n",
    "    growth_front_current, list_veins, list_junctions = propagate_veins_regular(growth_front_current, list_veins, list_junctions, current_time)\n",
    "    \n",
    "    #  TROUBLESHOOTING\n",
    "    if 0:\n",
    "        plt.figure()\n",
    "        plt.plot(array_n[0,:],array_n[1,:],'+')\n",
    "        plt.plot(array_m[0,:],array_m[1,:],'s')\n",
    "        plt.show()\n",
    "        input()\n",
    "    \n",
    "    #  Save growth front\n",
    "    list_growth_front.append(growth_front_current)   \n",
    "    \n",
    "    #  Limit the number of iteration\n",
    "    for vein_index in range(len(list_veins)):\n",
    "        if list_veins[vein_index].level > level_max:\n",
    "            level_max = list_veins[vein_index].level\n",
    "    \n",
    "    if iteration %1000 == 0: \n",
    "        print('iteration',iteration,current_time)\n",
    "        print(\"level max:\",level_max) \n",
    "\n",
    "    y_max = growth_front_current[1,:].max(axis = 0)\n",
    "    \n",
    "    if y_max > 500:\n",
    "        print('LEVEL_MAX:',level_max)\n",
    "        print('BREAK AT TIME:',current_time)\n",
    "        break\n",
    "\n",
    "        \n",
    "    #if level_max >= 40:  \n",
    "        #level = list_veins[mother_index].level + 1\n",
    "        # list_veins[mother_index]\n",
    "        #  list index out of range\n",
    "        #  32 level mother index not defined ??????\n",
    "    \n",
    "        #print('LEVEL_MAX:',level_max)\n",
    "        #print('BREAK AT TIME:',current_time)\n",
    "        #break"
   ]
  },
  {
   "cell_type": "code",
   "execution_count": 33,
   "id": "4e28be3d",
   "metadata": {},
   "outputs": [
    {
     "name": "stdout",
     "output_type": "stream",
     "text": [
      "There are 10002 growth fronts in list_growth_front \n"
     ]
    }
   ],
   "source": [
    "print(f\"There are {len(list_growth_front)} growth fronts in list_growth_front \")"
   ]
  },
  {
   "cell_type": "code",
   "execution_count": 34,
   "id": "93ab2df1",
   "metadata": {},
   "outputs": [
    {
     "name": "stdout",
     "output_type": "stream",
     "text": [
      "The maximum number of vein divisions is 38\n"
     ]
    }
   ],
   "source": [
    "print(f\"The maximum number of vein divisions is {level_max}\")"
   ]
  },
  {
   "cell_type": "markdown",
   "id": "a0eedefe",
   "metadata": {},
   "source": [
    "## VISUALIZATION"
   ]
  },
  {
   "cell_type": "code",
   "execution_count": 35,
   "id": "bea19704",
   "metadata": {},
   "outputs": [],
   "source": [
    "%matplotlib qt\n",
    "\n",
    "#  INITIATE\n",
    "\n",
    "fig_leaf, ax = plt.subplots(figsize=(6,18))    #longueur puis hauteur\n",
    "#plt.grid(True)\n",
    "title = \"Vein Dependant Growth, Dvein = {:.1f}, S_Growth = {:.1f}\" .format(D_VEIN, S_GROWTH)\n",
    "#plt.title(title, fontsize=15,pad=15)\n",
    "plt.gca().set_aspect('equal', adjustable='box')\n",
    "#ax.set(xlabel='x axis (Distance unit)', ylabel='y axis (Distance unit)')\n",
    "#plt.axis('off')\n",
    "\n",
    "## PLOT FRONTS\n",
    "    \n",
    "for growth_front in list_growth_front[::1000]:\n",
    "    plt.scatter(growth_front[0,:], growth_front[1,:], color= 'yellowgreen', s = 0.8)\n",
    "    \n",
    "#for growth_front in list_growth_front[::1000]:\n",
    "    #plt.scatter(growth_front[0,:], growth_front[1,:], color= 'darkolivegreen', s= 0.8)\n",
    "    \n",
    "# Plot last front\n",
    "plt.scatter(list_growth_front[-1][0,:], list_growth_front[-1][1,:], color= 'yellowgreen', s= 0.7)\n",
    "    \n",
    "    \n",
    "# PLOT VEINS\n",
    "\n",
    "for vein in list_veins:\n",
    "    plt.plot(vein.array[0,:], vein.array[1,:], color='blue')  # s=0.8\n",
    "for junction in list_junctions:\n",
    "    plt.plot(junction.array[0,:], junction.array[1,:], color='blue')  # s=0.8\n",
    "    \n",
    "# Plot central vein\n",
    "\n",
    "# find primary vein on last level\n",
    "\n",
    "x = X_AXIS[-1]\n",
    "for i in range(len(list_veins)):\n",
    "    if list_veins[i].level == level_max:\n",
    "        if abs(list_veins[i].array[0,0]) < x:\n",
    "            x = abs(list_veins[i].array[0,0])\n",
    "            x_index = list_veins[i].index\n",
    "\n",
    "            \n",
    "# plot primary vein\n",
    "\n",
    "l = level_max\n",
    "x_ind = int(list_veins[x_index].index)\n",
    "while l > 0:\n",
    "    x1 = list_veins[x_ind].array[0,:]\n",
    "    y1 = list_veins[x_ind].array[1,:]\n",
    "    x0_ind = int(list_veins[x_ind].mother_index)\n",
    "    x0 = list_veins[x0_ind].array[0,0]\n",
    "    l = list_veins[x0_ind].level\n",
    "    x_ind = x0_ind\n",
    "    plt.plot(x1,y1,color = 'crimson')\n",
    "\n",
    "\n",
    "    \n",
    "#for junction in list_junctions:\n",
    "    #plt.scatter(junction.array[0,:], junction.array[1,:], s=1, color='b')\n",
    "    \n",
    "    \n",
    "plt.show()\n"
   ]
  },
  {
   "cell_type": "code",
   "execution_count": 36,
   "id": "43ded6a8",
   "metadata": {},
   "outputs": [
    {
     "data": {
      "text/plain": [
       "100"
      ]
     },
     "execution_count": 36,
     "metadata": {},
     "output_type": "execute_result"
    }
   ],
   "source": [
    "int(len(list_growth_front) / 100)"
   ]
  },
  {
   "cell_type": "code",
   "execution_count": 37,
   "id": "e478c15b",
   "metadata": {},
   "outputs": [
    {
     "data": {
      "text/plain": [
       "1000"
      ]
     },
     "execution_count": 37,
     "metadata": {},
     "output_type": "execute_result"
    }
   ],
   "source": [
    "int(len(list_growth_front) / 10)"
   ]
  },
  {
   "cell_type": "markdown",
   "id": "9bd958ab",
   "metadata": {},
   "source": [
    "#### Iterate 1"
   ]
  },
  {
   "cell_type": "code",
   "execution_count": 38,
   "id": "1c86f531",
   "metadata": {},
   "outputs": [
    {
     "name": "stdout",
     "output_type": "stream",
     "text": [
      "Maximum vein level is 38\n"
     ]
    }
   ],
   "source": [
    "fig2 = plt.figure(figsize = (7,7))\n",
    "\n",
    "ax = plt.axes()\n",
    "plt.gca().set_aspect('equal', adjustable='box')\n",
    "ax.set_xlim(-3.5, 3.5)\n",
    "ax.set_ylim(-3.5, 3.5)\n",
    "#plt.grid(True, zorder = 0)\n",
    "ax.tick_params(axis='both', which='major', labelsize=11)\n",
    "\n",
    "### Plot Diagonal f(x)=x\n",
    "\n",
    "x = np.linspace(-50,50,100)\n",
    "y = x\n",
    "plt.plot(x,y, color = 'grey', zorder = 10)\n",
    "\n",
    "### vertical lines to indicate L/D_vein\n",
    "plt.vlines(x = X_AXIS[0] / D_VEIN, ymin = -6, ymax = 6, color = 'grey')\n",
    "plt.vlines(x = X_AXIS[-1] / D_VEIN, ymin = -6, ymax = 6, color = 'grey')\n",
    "plt.plot((X_AXIS[0] / D_VEIN, X_AXIS[-1] / D_VEIN), (-3, -3), 'k--')\n",
    "plt.scatter((X_AXIS[0] / D_VEIN, X_AXIS[-1] / D_VEIN), (-3, -3), color = 'black', s = 9, zorder = 10)\n",
    "txt = r'$\\frac{L}{\\alpha}$'\n",
    "plt.text(0, -2.5, txt, fontsize = 20, zorder = 10)\n",
    "\n",
    "\n",
    "### Take level max\n",
    "\n",
    "level_max = 0\n",
    "for i in range(len(list_veins)):\n",
    "    if list_veins[i].level > level_max:\n",
    "        level_max = list_veins[i].level\n",
    "printed = level_max\n",
    "txt = \"Maximum vein level is {}\"\n",
    "print(txt.format(printed))\n",
    "\n",
    "\n",
    "### all x(+1)=f(x)\n",
    "r = reversed(range(0,len(list_veins)))\n",
    "for j,i in enumerate(r):\n",
    "    x1 = list_veins[i].array[0,0]\n",
    "    if list_veins[i].level == 0:\n",
    "        break\n",
    "    \n",
    "    x1_p_ind = int(list_veins[i].mother_index)\n",
    "    x0 = list_veins[x1_p_ind].array[0,0]\n",
    "    plt.scatter(x0 / D_VEIN, x1 / D_VEIN, s = 15,color = 'blue', marker='x', zorder = 20)\n",
    "    \n",
    "#plt.title('x(+1) = f(x)', fontsize = 20)\n",
    "\n",
    "title = 'v = %s'%NB_VEINES\n",
    "#suptitle = r'$x_{n+1} = f(x_{n})$'\n",
    "xlab = r'$\\frac{x_{n}}{\\alpha}$'\n",
    "ylab = r'$\\frac{x_{n+1}}{\\alpha}$'\n",
    "\n",
    "#plt.title(title, fontsize = 24)\n",
    "plt.xlabel(xlab, fontsize=20)\n",
    "plt.ylabel(ylab, fontsize=20)\n",
    "#plt.suptitle(suptitle, fontsize = 20)\n",
    "\n",
    "\n",
    "### find primary vein on last level\n",
    "x = X_AXIS[-1]\n",
    "for i in range(len(list_veins)):\n",
    "    if list_veins[i].level == level_max:\n",
    "        if abs(list_veins[i].array[0,0]) < x:\n",
    "            x = abs(list_veins[i].array[0,0])\n",
    "            x_index = list_veins[i].index\n",
    "\n",
    "            \n",
    "### plot primary vein\n",
    "l = level_max\n",
    "x_ind = int(list_veins[x_index].index)\n",
    "while l > 0:\n",
    "    x1 = list_veins[x_ind].array[0,0]\n",
    "    x0_ind = int(list_veins[x_ind].mother_index)\n",
    "    x0 = list_veins[x0_ind].array[0,0]\n",
    "    l = list_veins[x0_ind].level\n",
    "    x_ind = x0_ind\n",
    "    plt.scatter(x0 / D_VEIN ,x1 / D_VEIN, s = 15,color = 'crimson', marker='x', zorder = 30)\n",
    "    \n",
    "#fig_name_pdf = \"Fixed_growth_nbveins_\" + f\"{NB_VEINES}\" + \"_iterate\" + \".pdf\"\n",
    "#fig_name_png = \"Fixed_growth_nbveins_\" + f\"{NB_VEINES}\" + \"_iterate\" + \".png\"\n",
    "#plt.savefig(fig_name_pdf)\n",
    "#plt.savefig(fig_name_png)\n",
    "plt.show()\n",
    "\n"
   ]
  },
  {
   "cell_type": "code",
   "execution_count": 39,
   "id": "5882d824",
   "metadata": {},
   "outputs": [
    {
     "name": "stdout",
     "output_type": "stream",
     "text": [
      "Maximum vein level is 38\n"
     ]
    }
   ],
   "source": [
    "fig2 = plt.figure(figsize = (7,7))\n",
    "plt.grid(True)\n",
    "#plt.gca().set_aspect('equal', adjustable='box')\n",
    "ax = plt.axes()\n",
    "ax.set_xlim(-50, 50)\n",
    "ax.set_ylim(-50, 50)\n",
    "\n",
    "### Plot Diagonal f(x)=x\n",
    "\n",
    "x = np.linspace(-50,50,100)\n",
    "y = x\n",
    "plt.plot(x,y, 'grey')\n",
    "\n",
    "\n",
    "### Take level max\n",
    "\n",
    "level_max = 0\n",
    "for i in range(len(list_veins)):\n",
    "    if list_veins[i].level > level_max:\n",
    "        level_max = list_veins[i].level\n",
    "printed = level_max\n",
    "txt = \"Maximum vein level is {}\"\n",
    "print(txt.format(printed))\n",
    "\n",
    "\n",
    "### all x(+1)=f(x)\n",
    "r = reversed(range(0,len(list_veins)))\n",
    "for j,i in enumerate(r):\n",
    "    x1 = list_veins[i].array[0,0]\n",
    "    if list_veins[i].level == 0:\n",
    "        break\n",
    "    \n",
    "    x1_p_ind = int(list_veins[i].mother_index)\n",
    "    x0 = list_veins[x1_p_ind].array[0,0]\n",
    "    plt.scatter(x0,x1,s = 15,color = 'blue')\n",
    "    \n",
    "plt.title('x(+1) = f(x)', fontsize = 20)\n",
    "plt.xlabel('x', fontsize = 20)\n",
    "plt.ylabel('x+1', fontsize = 20)\n",
    "\n",
    "\n",
    "### find primary vein on last level\n",
    "x = X_AXIS[-1]\n",
    "for i in range(len(list_veins)):\n",
    "    if list_veins[i].level == level_max:\n",
    "        if abs(list_veins[i].array[0,0]) < x:\n",
    "            x = abs(list_veins[i].array[0,0])\n",
    "            x_index = list_veins[i].index\n",
    "\n",
    "            \n",
    "### plot primary vein (after stabilization)\n",
    "l = level_max\n",
    "x_ind = int(list_veins[x_index].index)\n",
    "while l > 1:\n",
    "    x1 = list_veins[x_ind].array[0,0]\n",
    "    x0_ind = int(list_veins[x_ind].mother_index)\n",
    "    x0 = list_veins[x0_ind].array[0,0]\n",
    "    l = list_veins[x0_ind].level\n",
    "    x_ind = x0_ind\n",
    "    plt.scatter(x0,x1,s = 15,color = 'crimson')\n",
    "\n",
    "plt.show()\n",
    "#plt.savefig('xy_sigma0p05_casstable_iterate1_seed0.pdf')\n",
    "#plt.savefig('xy_sigma0p05_casstable_iterate1_seed0.png')"
   ]
  },
  {
   "cell_type": "markdown",
   "id": "14566e78",
   "metadata": {},
   "source": [
    "#### Iterate 2"
   ]
  },
  {
   "cell_type": "code",
   "execution_count": 40,
   "id": "95238d4e",
   "metadata": {},
   "outputs": [
    {
     "name": "stdout",
     "output_type": "stream",
     "text": [
      "Maximum vein level is 38\n"
     ]
    }
   ],
   "source": [
    "fig3 = plt.figure(figsize = (7,7))\n",
    "\n",
    "ax = plt.axes()\n",
    "plt.gca().set_aspect('equal', adjustable='box')\n",
    "ax.set_xlim(-3.5, 3.5)\n",
    "ax.set_ylim(-3.5, 3.5)\n",
    "#plt.grid(True, zorder = 0)\n",
    "ax.tick_params(axis='both', which='major', labelsize=11)\n",
    "\n",
    "### vertical lines to indicate L/D_vein\n",
    "plt.vlines(x = X_AXIS[0] / D_VEIN, ymin = -6, ymax = 6, color = 'grey')\n",
    "plt.vlines(x = X_AXIS[-1] / D_VEIN, ymin = -6, ymax = 6, color = 'grey')\n",
    "plt.plot((X_AXIS[0] / D_VEIN, X_AXIS[-1] / D_VEIN), (-3, -3), 'k--')\n",
    "plt.scatter((X_AXIS[0] / D_VEIN, X_AXIS[-1] / D_VEIN), (-3, -3), color = 'black', s = 9, zorder = 10)\n",
    "txt = r'$\\frac{L}{\\alpha}$'\n",
    "plt.text(0, -2.5, txt, fontsize = 20, zorder = 10)\n",
    "\n",
    "x = np.linspace(-50,50,100)\n",
    "y = x\n",
    "plt.plot(x,y, color = 'grey', zorder = 10)\n",
    "\n",
    "\n",
    "### Take level max\n",
    "\n",
    "level_max = 0\n",
    "for i in range(len(list_veins)):\n",
    "    if list_veins[i].level > level_max:\n",
    "        level_max = list_veins[i].level\n",
    "printed = level_max\n",
    "txt = \"Maximum vein level is {}\"\n",
    "print(txt.format(printed))\n",
    "\n",
    "\n",
    "### all x(+1)=f(x)\n",
    "r = reversed(range(0,len(list_veins)))\n",
    "for j,i in enumerate(r):\n",
    "    x2 = list_veins[i].array[0,0]\n",
    "    if list_veins[i].level == 1:\n",
    "        break\n",
    "    \n",
    "    x1_p_ind = int(list_veins[i].mother_index)\n",
    "    x2_p_ind = int(list_veins[x1_p_ind].mother_index)\n",
    "    x0 = list_veins[x2_p_ind].array[0,0]\n",
    "    plt.scatter(x0 / D_VEIN, x2 / D_VEIN ,s = 15,color = 'blue')\n",
    "    \n",
    "title = 'v = %s'%NB_VEINES\n",
    "#suptitle = r'$x_{n+1} = f(x_{n})$'\n",
    "xlab = r'$\\frac{x_{n}}{\\alpha}$'\n",
    "ylab = r'$\\frac{x_{n+2}}{\\alpha}$'\n",
    "\n",
    "plt.xlabel(xlab, fontsize=20)\n",
    "plt.ylabel(ylab, fontsize=20)\n",
    "\n",
    "\n",
    "### find primary vein on last level\n",
    "x = X_AXIS[-1]\n",
    "for i in range(len(list_veins)):\n",
    "    if list_veins[i].level == level_max:\n",
    "        if abs(list_veins[i].array[0,0]) < x:\n",
    "            x = abs(list_veins[i].array[0,0])\n",
    "            x_index = list_veins[i].index\n",
    "\n",
    "            \n",
    "### plot primary vein\n",
    "l = level_max\n",
    "x2_ind = int(list_veins[x_index].index)\n",
    "while l > 1 :\n",
    "    x2 = list_veins[x2_ind].array[0,0]\n",
    "    x1_ind = int(list_veins[x2_ind].mother_index)\n",
    "    x0_ind = int(list_veins[x1_ind].mother_index)\n",
    "    x0 = list_veins[x0_ind].array[0,0]\n",
    "    l = list_veins[x0_ind].level\n",
    "    x2_ind = x0_ind\n",
    "    plt.scatter(x0 / D_VEIN ,x2 / D_VEIN,s = 15,color = 'crimson')\n",
    "\n",
    "plt.show()\n",
    "#plt.savefig('xy_sigma0p05_casstable_iterate2_seed0.pdf')\n",
    "#plt.savefig('xy_sigma0p05_casstable_iterate2_seed0.png')"
   ]
  },
  {
   "cell_type": "markdown",
   "id": "62e4324e",
   "metadata": {},
   "source": [
    "## SAVE LIST OF GROWTH FRONTS"
   ]
  },
  {
   "cell_type": "markdown",
   "id": "8b5e5bf0",
   "metadata": {},
   "source": [
    "### Functions"
   ]
  },
  {
   "cell_type": "markdown",
   "id": "3d707520",
   "metadata": {},
   "source": [
    "<div class=\"alert alert-block alert-warning\"><b>Warning:</b> When saving keys, be careful as the numerical order of character chains '0' '2' '10' is 0 10 2  </div>"
   ]
  },
  {
   "cell_type": "code",
   "execution_count": 41,
   "id": "d11b1c7d",
   "metadata": {},
   "outputs": [],
   "source": [
    "def write_arraylist(arraylist, filename):\n",
    "\n",
    "    #  create empty name of zero\n",
    "    zeros = '0' * len(str(len(arraylist)))\n",
    "    \n",
    "    #  open fil to write\n",
    "    f = tables.open_file(filename, 'w')\n",
    "                       \n",
    "    #  add array with the right name\n",
    "    for i, array in enumerate(arraylist):\n",
    "        \n",
    "        #create name\n",
    "        name = list(zeros) \n",
    "        item = list(str(i))\n",
    "        \n",
    "        for j, letter in enumerate(item[::-1]):\n",
    "            index = - (j + 1)\n",
    "            name[index] = letter\n",
    "        name = \"\".join(name)\n",
    "        name = \"a\" + name\n",
    "        \n",
    "        # add array to the file\n",
    "        f.create_array(f.root, name, array)\n",
    "        \n",
    "    #  close file\n",
    "    f.close()"
   ]
  },
  {
   "cell_type": "code",
   "execution_count": 42,
   "id": "e288d25f",
   "metadata": {},
   "outputs": [],
   "source": [
    "def read_array_list(filename):\n",
    "\n",
    "    list_array = []\n",
    "    with h5py.File(filename, \"r\") as f:\n",
    "        #  Print all root level object names (aka keys) \n",
    "        #  these can be group or dataset names \n",
    "        print(\"Keys: %s\" % f.keys())\n",
    "        for key_index in range(len(f.keys())):\n",
    "        #  get 'key' object name/key; may or may NOT be a group\n",
    "            a_group_key = list(f.keys())[key_index]            \n",
    "        #  get the object type for a_group_key: usually group or dataset\n",
    "            print(type(f[a_group_key]))         \n",
    "        #  if a_group_key is a group name, \n",
    "        #  this gets the object names in the group and returns as a list\n",
    "            data = list(f[a_group_key])\n",
    "        #  If a_group_key is a dataset name, \n",
    "        #  this gets the dataset values and returns as a list    \n",
    "            data = list(f[a_group_key])\n",
    "        #  preferred methods to get dataset values:\n",
    "            ds_obj = f[a_group_key]      # returns as a h5py dataset object\n",
    "            ds_arr = f[a_group_key][()]  # returns as a numpy array\n",
    "        \n",
    "        # save array in list_array\n",
    "            list_array.append(ds_arr)\n",
    "            \n",
    "    return(list_array)"
   ]
  },
  {
   "cell_type": "code",
   "execution_count": 43,
   "id": "a4328b1a",
   "metadata": {},
   "outputs": [],
   "source": [
    "def loadall(filename):\n",
    "    with open(filename, \"rb\") as f:\n",
    "        while True:\n",
    "            try:\n",
    "                return pickle.load(f)\n",
    "            except EOFError:\n",
    "                break"
   ]
  },
  {
   "cell_type": "markdown",
   "id": "44febbc3",
   "metadata": {},
   "source": [
    "### Test"
   ]
  },
  {
   "cell_type": "markdown",
   "id": "17ee0d4f",
   "metadata": {},
   "source": [
    "array1 = np.ones(2);\n",
    "array2 = np.ones(5);\n",
    "array3 = np.ones(1000);\n",
    "\n",
    "arraylist = [array1, array2, array3]\n",
    "\n",
    "write_arraylist(arraylist, 'testfile.h5')"
   ]
  },
  {
   "cell_type": "markdown",
   "id": "448253f9",
   "metadata": {},
   "source": [
    "list_array = read_array_list('testfile.h5')"
   ]
  },
  {
   "cell_type": "markdown",
   "id": "70e18def",
   "metadata": {},
   "source": [
    "list_array[1]"
   ]
  },
  {
   "cell_type": "markdown",
   "id": "fdaa1105",
   "metadata": {},
   "source": [
    "### Save growth front list"
   ]
  },
  {
   "cell_type": "code",
   "execution_count": 44,
   "id": "da53d4dc",
   "metadata": {},
   "outputs": [],
   "source": [
    "write_arraylist(list_growth_front, 'finger_list_growth_front_6v_d16_6_L100.h5')"
   ]
  },
  {
   "cell_type": "markdown",
   "id": "9681bb08",
   "metadata": {},
   "source": [
    "### save list veins and list junction"
   ]
  },
  {
   "cell_type": "markdown",
   "id": "652e3fe1",
   "metadata": {},
   "source": [
    ".dat when pickling data is a convention (you could also use .pickle ?)"
   ]
  },
  {
   "cell_type": "code",
   "execution_count": 45,
   "id": "b6625a1e",
   "metadata": {},
   "outputs": [],
   "source": [
    "PIK = \"finger_list_veins_6v_d16_6_L100.dat\"\n",
    "\n",
    "with open(PIK, \"wb\") as f:\n",
    "    pickle.dump(list_veins, f)\n",
    "\n",
    "items = loadall(PIK)"
   ]
  },
  {
   "cell_type": "code",
   "execution_count": 46,
   "id": "53a690e3",
   "metadata": {},
   "outputs": [],
   "source": [
    "PIK = \"finger_list_junctions_6v_d16_6_L100.dat\"\n",
    "\n",
    "with open(PIK, \"wb\") as f:\n",
    "    pickle.dump(list_junctions, f)\n",
    "\n",
    "items = loadall(PIK)"
   ]
  },
  {
   "cell_type": "code",
   "execution_count": null,
   "id": "fce266ea",
   "metadata": {},
   "outputs": [],
   "source": []
  }
 ],
 "metadata": {
  "kernelspec": {
   "display_name": "Python 3 (ipykernel)",
   "language": "python",
   "name": "python3"
  },
  "language_info": {
   "codemirror_mode": {
    "name": "ipython",
    "version": 3
   },
   "file_extension": ".py",
   "mimetype": "text/x-python",
   "name": "python",
   "nbconvert_exporter": "python",
   "pygments_lexer": "ipython3",
   "version": "3.9.19"
  }
 },
 "nbformat": 4,
 "nbformat_minor": 5
}
